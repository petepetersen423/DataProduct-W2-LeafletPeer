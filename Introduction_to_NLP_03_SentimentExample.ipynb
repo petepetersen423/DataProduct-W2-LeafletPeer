{
  "nbformat": 4,
  "nbformat_minor": 0,
  "metadata": {
    "colab": {
      "name": "Introduction_to_NLP_03_SentimentExample.ipynb",
      "provenance": [],
      "toc_visible": true,
      "include_colab_link": true
    },
    "kernelspec": {
      "name": "python3",
      "display_name": "Python 3"
    },
    "accelerator": "TPU"
  },
  "cells": [
    {
      "cell_type": "markdown",
      "metadata": {
        "id": "view-in-github",
        "colab_type": "text"
      },
      "source": [
        "<a href=\"https://colab.research.google.com/github/petepetersen423/DataProduct-W2-LeafletPeer/blob/master/Introduction_to_NLP_03_SentimentExample.ipynb\" target=\"_parent\"><img src=\"https://colab.research.google.com/assets/colab-badge.svg\" alt=\"Open In Colab\"/></a>"
      ]
    },
    {
      "cell_type": "markdown",
      "metadata": {
        "id": "W_g32uyjqacV",
        "colab_type": "text"
      },
      "source": [
        "# Sentiment Analysis Python Example"
      ]
    },
    {
      "cell_type": "markdown",
      "metadata": {
        "id": "vI1gP7HBBARs",
        "colab_type": "text"
      },
      "source": [
        "* Author: Amy Zhuang\n",
        "* Date: August 2020"
      ]
    },
    {
      "cell_type": "markdown",
      "metadata": {
        "id": "d1g3ODcfSHE5",
        "colab_type": "text"
      },
      "source": [
        "## Sentiment Analysis Types"
      ]
    },
    {
      "cell_type": "markdown",
      "metadata": {
        "id": "nMeuGqhcG1Re",
        "colab_type": "text"
      },
      "source": [
        "\n",
        "- Lexicon-based: The lexicon-based method has a dictionary of sentiment scores for each word in a sentence. The average sentiment score of each word in a sentence is used to calculate the sentiment of the whole sentence. There are two popular lexicon-based sentiment analysis python packages: TextBlob and VADER.\n",
        "- Cloud API: Some cloud service providers have sentiment analysis as a service. This article provides a comparison of major cloud sentiment services. Such service usually has a cost associated with it. \n",
        "- Machine Learning Model: Machine learning model method uses predictive model to predict the sentiment of a document. Based on whether the predictors are bag of words or sequence, either a binary classification model (e.g., logistic regression, SVM, Naive Bayesian, Random Forest etc.) or a RNN model can be used.\n"
      ]
    },
    {
      "cell_type": "markdown",
      "metadata": {
        "id": "PjCtn0b8b3eO",
        "colab_type": "text"
      },
      "source": [
        "## Mount Google Drive\n"
      ]
    },
    {
      "cell_type": "code",
      "metadata": {
        "colab_type": "code",
        "id": "QW7bF3vq3KJ_",
        "colab": {
          "base_uri": "https://localhost:8080/",
          "height": 34
        },
        "outputId": "a7ebf413-774b-48a6-b386-17a188466dbd"
      },
      "source": [
        "!pwd"
      ],
      "execution_count": null,
      "outputs": [
        {
          "output_type": "stream",
          "text": [
            "/content\n"
          ],
          "name": "stdout"
        }
      ]
    },
    {
      "cell_type": "code",
      "metadata": {
        "colab_type": "code",
        "id": "GKpkpf7x3KKE",
        "colab": {
          "base_uri": "https://localhost:8080/",
          "height": 34
        },
        "outputId": "9f62108a-5813-4f42-9d73-ce75af39890e"
      },
      "source": [
        "from google.colab import drive\n",
        "drive.mount('/content/drive')"
      ],
      "execution_count": null,
      "outputs": [
        {
          "output_type": "stream",
          "text": [
            "Drive already mounted at /content/drive; to attempt to forcibly remount, call drive.mount(\"/content/drive\", force_remount=True).\n"
          ],
          "name": "stdout"
        }
      ]
    },
    {
      "cell_type": "code",
      "metadata": {
        "id": "NWbr00oYNQBJ",
        "colab_type": "code",
        "colab": {}
      },
      "source": [
        "import os\n",
        "os.chdir(\"drive/My Drive/Colab Notebooks\")"
      ],
      "execution_count": null,
      "outputs": []
    },
    {
      "cell_type": "code",
      "metadata": {
        "id": "ExCPh7ZeNfZ0",
        "colab_type": "code",
        "colab": {
          "base_uri": "https://localhost:8080/",
          "height": 34
        },
        "outputId": "104cc914-7b01-4ff1-ddb8-4ef5de45aaca"
      },
      "source": [
        "!pwd"
      ],
      "execution_count": null,
      "outputs": [
        {
          "output_type": "stream",
          "text": [
            "/content/drive/My Drive/Colab Notebooks\n"
          ],
          "name": "stdout"
        }
      ]
    },
    {
      "cell_type": "markdown",
      "metadata": {
        "colab_type": "text",
        "id": "VvLGEv863KKM"
      },
      "source": [
        "## Verify GPU and TPU"
      ]
    },
    {
      "cell_type": "code",
      "metadata": {
        "colab_type": "code",
        "id": "qv37uRky3KKN",
        "colab": {
          "base_uri": "https://localhost:8080/",
          "height": 80
        },
        "outputId": "6ec013ea-628c-4de8-a361-374c8f85c3fd"
      },
      "source": [
        "import tensorflow as tf\n",
        "tf.test.gpu_device_name()"
      ],
      "execution_count": null,
      "outputs": [
        {
          "output_type": "display_data",
          "data": {
            "text/html": [
              "<p style=\"color: red;\">\n",
              "The default version of TensorFlow in Colab will soon switch to TensorFlow 2.x.<br>\n",
              "We recommend you <a href=\"https://www.tensorflow.org/guide/migrate\" target=\"_blank\">upgrade</a> now \n",
              "or ensure your notebook will continue to use TensorFlow 1.x via the <code>%tensorflow_version 1.x</code> magic:\n",
              "<a href=\"https://colab.research.google.com/notebooks/tensorflow_version.ipynb\" target=\"_blank\">more info</a>.</p>\n"
            ],
            "text/plain": [
              "<IPython.core.display.HTML object>"
            ]
          },
          "metadata": {
            "tags": []
          }
        },
        {
          "output_type": "execute_result",
          "data": {
            "text/plain": [
              "'/device:GPU:0'"
            ]
          },
          "metadata": {
            "tags": []
          },
          "execution_count": 2
        }
      ]
    },
    {
      "cell_type": "code",
      "metadata": {
        "colab_type": "code",
        "id": "fPGsbMLA3KKR",
        "colab": {
          "base_uri": "https://localhost:8080/",
          "height": 34
        },
        "outputId": "40df5c0e-771e-45e3-9061-6ecf60ce9c2e"
      },
      "source": [
        "import os\n",
        "if 'COLAB_TPU_ADDR' not in os.environ:\n",
        "  print('Not connected to TPU')\n",
        "else:\n",
        "  print(\"Connected to TPU\")"
      ],
      "execution_count": null,
      "outputs": [
        {
          "output_type": "stream",
          "text": [
            "Connected to TPU\n"
          ],
          "name": "stdout"
        }
      ]
    },
    {
      "cell_type": "markdown",
      "metadata": {
        "id": "LiIDQY1UHR_N",
        "colab_type": "text"
      },
      "source": [
        "## Download Data"
      ]
    },
    {
      "cell_type": "markdown",
      "metadata": {
        "id": "0Q1bBtSIHUO_",
        "colab_type": "text"
      },
      "source": [
        "1. Go to: https://archive.ics.uci.edu/ml/datasets/Sentiment+Labelled+Sentences\n",
        "2. Click \"Data Folder\"\n",
        "3. Download \"sentiment labelled sentences.zip\"\n",
        "4. Unzip \"sentiment labelled sentences.zip\"\n",
        "5. Copy the file \"amazon_cells_labelled.txt\" to Google drive"
      ]
    },
    {
      "cell_type": "markdown",
      "metadata": {
        "id": "PQwtIk_GyK4o",
        "colab_type": "text"
      },
      "source": [
        "## Import Libraries"
      ]
    },
    {
      "cell_type": "code",
      "metadata": {
        "id": "b0wHVGnDyOGY",
        "colab_type": "code",
        "colab": {}
      },
      "source": [
        "import pandas as pd\n",
        "import numpy as np\n",
        "from keras.models import Sequential\n",
        "from keras.layers import Embedding, LSTM, Dense, Dropout, GRU, Flatten\n",
        "from matplotlib import pyplot\n",
        "\n",
        "pd.set_option('display.max_rows', 500)\n",
        "pd.set_option('display.max_columns', 500)\n",
        "pd.set_option('display.width', 1000)\n",
        "pd.set_option('display.max_colwidth', 1000)"
      ],
      "execution_count": null,
      "outputs": []
    },
    {
      "cell_type": "markdown",
      "metadata": {
        "id": "zPUxmYg0yrYl",
        "colab_type": "text"
      },
      "source": [
        "## Readin Data"
      ]
    },
    {
      "cell_type": "code",
      "metadata": {
        "id": "mx5j0rEqJYhY",
        "colab_type": "code",
        "colab": {
          "base_uri": "https://localhost:8080/",
          "height": 204
        },
        "outputId": "13afa7a2-60b6-4e08-9379-3e05731ba212"
      },
      "source": [
        "colnames = ['sentence','target']\n",
        "amz_review = pd.read_csv('amazon_cells_labelled.txt', sep='\\t', names=colnames)\n",
        "amz_review.head()"
      ],
      "execution_count": null,
      "outputs": [
        {
          "output_type": "execute_result",
          "data": {
            "text/html": [
              "<div>\n",
              "<style scoped>\n",
              "    .dataframe tbody tr th:only-of-type {\n",
              "        vertical-align: middle;\n",
              "    }\n",
              "\n",
              "    .dataframe tbody tr th {\n",
              "        vertical-align: top;\n",
              "    }\n",
              "\n",
              "    .dataframe thead th {\n",
              "        text-align: right;\n",
              "    }\n",
              "</style>\n",
              "<table border=\"1\" class=\"dataframe\">\n",
              "  <thead>\n",
              "    <tr style=\"text-align: right;\">\n",
              "      <th></th>\n",
              "      <th>sentence</th>\n",
              "      <th>target</th>\n",
              "    </tr>\n",
              "  </thead>\n",
              "  <tbody>\n",
              "    <tr>\n",
              "      <th>0</th>\n",
              "      <td>So there is no way for me to plug it in here in the US unless I go by a converter.</td>\n",
              "      <td>0</td>\n",
              "    </tr>\n",
              "    <tr>\n",
              "      <th>1</th>\n",
              "      <td>Good case, Excellent value.</td>\n",
              "      <td>1</td>\n",
              "    </tr>\n",
              "    <tr>\n",
              "      <th>2</th>\n",
              "      <td>Great for the jawbone.</td>\n",
              "      <td>1</td>\n",
              "    </tr>\n",
              "    <tr>\n",
              "      <th>3</th>\n",
              "      <td>Tied to charger for conversations lasting more than 45 minutes.MAJOR PROBLEMS!!</td>\n",
              "      <td>0</td>\n",
              "    </tr>\n",
              "    <tr>\n",
              "      <th>4</th>\n",
              "      <td>The mic is great.</td>\n",
              "      <td>1</td>\n",
              "    </tr>\n",
              "  </tbody>\n",
              "</table>\n",
              "</div>"
            ],
            "text/plain": [
              "                                                                             sentence  target\n",
              "0  So there is no way for me to plug it in here in the US unless I go by a converter.       0\n",
              "1                                                         Good case, Excellent value.       1\n",
              "2                                                              Great for the jawbone.       1\n",
              "3     Tied to charger for conversations lasting more than 45 minutes.MAJOR PROBLEMS!!       0\n",
              "4                                                                   The mic is great.       1"
            ]
          },
          "metadata": {
            "tags": []
          },
          "execution_count": 9
        }
      ]
    },
    {
      "cell_type": "code",
      "metadata": {
        "id": "dwkNN13L7Jo-",
        "colab_type": "code",
        "colab": {
          "base_uri": "https://localhost:8080/",
          "height": 170
        },
        "outputId": "36423147-530c-4b94-a3c3-5b84b75cee06"
      },
      "source": [
        "amz_review.info()"
      ],
      "execution_count": null,
      "outputs": [
        {
          "output_type": "stream",
          "text": [
            "<class 'pandas.core.frame.DataFrame'>\n",
            "RangeIndex: 1000 entries, 0 to 999\n",
            "Data columns (total 2 columns):\n",
            " #   Column    Non-Null Count  Dtype \n",
            "---  ------    --------------  ----- \n",
            " 0   sentence  1000 non-null   object\n",
            " 1   target    1000 non-null   int64 \n",
            "dtypes: int64(1), object(1)\n",
            "memory usage: 15.8+ KB\n"
          ],
          "name": "stdout"
        }
      ]
    },
    {
      "cell_type": "code",
      "metadata": {
        "id": "nj7oG1fVQewg",
        "colab_type": "code",
        "colab": {
          "base_uri": "https://localhost:8080/",
          "height": 68
        },
        "outputId": "519963e6-5c1c-49ae-f73b-2ed14886bfae"
      },
      "source": [
        "amz_review['target'].value_counts()"
      ],
      "execution_count": null,
      "outputs": [
        {
          "output_type": "execute_result",
          "data": {
            "text/plain": [
              "1    500\n",
              "0    500\n",
              "Name: target, dtype: int64"
            ]
          },
          "metadata": {
            "tags": []
          },
          "execution_count": 8
        }
      ]
    },
    {
      "cell_type": "markdown",
      "metadata": {
        "id": "NKKQK2e3HM-n",
        "colab_type": "text"
      },
      "source": [
        "## VADER"
      ]
    },
    {
      "cell_type": "code",
      "metadata": {
        "id": "cuCJcZUMJuCU",
        "colab_type": "code",
        "colab": {
          "base_uri": "https://localhost:8080/",
          "height": 341
        },
        "outputId": "88f1c903-5e76-455b-a20e-d2192a66db96"
      },
      "source": [
        "!pip3 install -U nltk"
      ],
      "execution_count": null,
      "outputs": [
        {
          "output_type": "stream",
          "text": [
            "Collecting nltk\n",
            "\u001b[?25l  Downloading https://files.pythonhosted.org/packages/f6/1d/d925cfb4f324ede997f6d47bea4d9babba51b49e87a767c170b77005889d/nltk-3.4.5.zip (1.5MB)\n",
            "\u001b[K     |████████████████████████████████| 1.5MB 2.9MB/s \n",
            "\u001b[?25hRequirement already satisfied, skipping upgrade: six in /usr/local/lib/python3.6/dist-packages (from nltk) (1.12.0)\n",
            "Building wheels for collected packages: nltk\n",
            "  Building wheel for nltk (setup.py) ... \u001b[?25l\u001b[?25hdone\n",
            "  Created wheel for nltk: filename=nltk-3.4.5-cp36-none-any.whl size=1449905 sha256=dc5aff3c3eeab29e0d871367a4e1d85a2d6ac22206ffec8da23ec4f3bcf77c6f\n",
            "  Stored in directory: /root/.cache/pip/wheels/96/86/f6/68ab24c23f207c0077381a5e3904b2815136b879538a24b483\n",
            "Successfully built nltk\n",
            "Installing collected packages: nltk\n",
            "  Found existing installation: nltk 3.2.5\n",
            "    Uninstalling nltk-3.2.5:\n",
            "      Successfully uninstalled nltk-3.2.5\n",
            "Successfully installed nltk-3.4.5\n"
          ],
          "name": "stdout"
        },
        {
          "output_type": "display_data",
          "data": {
            "application/vnd.colab-display-data+json": {
              "pip_warning": {
                "packages": [
                  "nltk"
                ]
              }
            }
          },
          "metadata": {
            "tags": []
          }
        }
      ]
    },
    {
      "cell_type": "code",
      "metadata": {
        "id": "DA-ugxtdNH6L",
        "colab_type": "code",
        "colab": {}
      },
      "source": [
        "import nltk"
      ],
      "execution_count": null,
      "outputs": []
    },
    {
      "cell_type": "code",
      "metadata": {
        "id": "0sCfA2EiNDB0",
        "colab_type": "code",
        "colab": {
          "base_uri": "https://localhost:8080/",
          "height": 51
        },
        "outputId": "630e7e9c-e544-4856-c205-ab79c0097756"
      },
      "source": [
        "nltk.download('vader_lexicon')"
      ],
      "execution_count": null,
      "outputs": [
        {
          "output_type": "stream",
          "text": [
            "[nltk_data] Downloading package vader_lexicon to /root/nltk_data...\n"
          ],
          "name": "stdout"
        },
        {
          "output_type": "execute_result",
          "data": {
            "text/plain": [
              "True"
            ]
          },
          "metadata": {
            "tags": []
          },
          "execution_count": 34
        }
      ]
    },
    {
      "cell_type": "code",
      "metadata": {
        "id": "MsD0hLU2-cVf",
        "colab_type": "code",
        "colab": {
          "base_uri": "https://localhost:8080/",
          "height": 71
        },
        "outputId": "22988609-9f1f-4515-ad61-dd290c5a7037"
      },
      "source": [
        "from nltk.sentiment.vader import SentimentIntensityAnalyzer\n",
        "sia = SentimentIntensityAnalyzer()"
      ],
      "execution_count": null,
      "outputs": [
        {
          "output_type": "stream",
          "text": [
            "/usr/local/lib/python3.6/dist-packages/nltk/twitter/__init__.py:20: UserWarning: The twython library has not been installed. Some functionality from the twitter package will not be available.\n",
            "  warnings.warn(\"The twython library has not been installed. \"\n"
          ],
          "name": "stderr"
        }
      ]
    },
    {
      "cell_type": "code",
      "metadata": {
        "id": "ykRlHeAGTQ7c",
        "colab_type": "code",
        "colab": {
          "base_uri": "https://localhost:8080/",
          "height": 204
        },
        "outputId": "0ebcd720-25d0-4d44-a535-9731b28574b1"
      },
      "source": [
        "amz_review['scores_VADER'] = amz_review['sentence'].apply(lambda s: sia.polarity_scores(s)['compound'])\n",
        "amz_review['pred_VADER'] = amz_review['scores_VADER'].apply(lambda x: 1 if x >=0 else 0)\n",
        "amz_review.head()"
      ],
      "execution_count": null,
      "outputs": [
        {
          "output_type": "execute_result",
          "data": {
            "text/html": [
              "<div>\n",
              "<style scoped>\n",
              "    .dataframe tbody tr th:only-of-type {\n",
              "        vertical-align: middle;\n",
              "    }\n",
              "\n",
              "    .dataframe tbody tr th {\n",
              "        vertical-align: top;\n",
              "    }\n",
              "\n",
              "    .dataframe thead th {\n",
              "        text-align: right;\n",
              "    }\n",
              "</style>\n",
              "<table border=\"1\" class=\"dataframe\">\n",
              "  <thead>\n",
              "    <tr style=\"text-align: right;\">\n",
              "      <th></th>\n",
              "      <th>sentence</th>\n",
              "      <th>target</th>\n",
              "      <th>scores_VADER</th>\n",
              "      <th>pred_VADER</th>\n",
              "    </tr>\n",
              "  </thead>\n",
              "  <tbody>\n",
              "    <tr>\n",
              "      <th>0</th>\n",
              "      <td>So there is no way for me to plug it in here in the US unless I go by a converter.</td>\n",
              "      <td>0</td>\n",
              "      <td>-0.3535</td>\n",
              "      <td>0</td>\n",
              "    </tr>\n",
              "    <tr>\n",
              "      <th>1</th>\n",
              "      <td>Good case, Excellent value.</td>\n",
              "      <td>1</td>\n",
              "      <td>0.8402</td>\n",
              "      <td>1</td>\n",
              "    </tr>\n",
              "    <tr>\n",
              "      <th>2</th>\n",
              "      <td>Great for the jawbone.</td>\n",
              "      <td>1</td>\n",
              "      <td>0.6249</td>\n",
              "      <td>1</td>\n",
              "    </tr>\n",
              "    <tr>\n",
              "      <th>3</th>\n",
              "      <td>Tied to charger for conversations lasting more than 45 minutes.MAJOR PROBLEMS!!</td>\n",
              "      <td>0</td>\n",
              "      <td>-0.6145</td>\n",
              "      <td>0</td>\n",
              "    </tr>\n",
              "    <tr>\n",
              "      <th>4</th>\n",
              "      <td>The mic is great.</td>\n",
              "      <td>1</td>\n",
              "      <td>0.6249</td>\n",
              "      <td>1</td>\n",
              "    </tr>\n",
              "  </tbody>\n",
              "</table>\n",
              "</div>"
            ],
            "text/plain": [
              "                                                                             sentence  target  scores_VADER  pred_VADER\n",
              "0  So there is no way for me to plug it in here in the US unless I go by a converter.       0       -0.3535           0\n",
              "1                                                         Good case, Excellent value.       1        0.8402           1\n",
              "2                                                              Great for the jawbone.       1        0.6249           1\n",
              "3     Tied to charger for conversations lasting more than 45 minutes.MAJOR PROBLEMS!!       0       -0.6145           0\n",
              "4                                                                   The mic is great.       1        0.6249           1"
            ]
          },
          "metadata": {
            "tags": []
          },
          "execution_count": 44
        }
      ]
    },
    {
      "cell_type": "code",
      "metadata": {
        "id": "gmcBDHlyT4UW",
        "colab_type": "code",
        "colab": {
          "base_uri": "https://localhost:8080/",
          "height": 204
        },
        "outputId": "39cb0cc0-2585-40c0-cec7-145df95e7857"
      },
      "source": [
        "amz_review.tail()"
      ],
      "execution_count": null,
      "outputs": [
        {
          "output_type": "execute_result",
          "data": {
            "text/html": [
              "<div>\n",
              "<style scoped>\n",
              "    .dataframe tbody tr th:only-of-type {\n",
              "        vertical-align: middle;\n",
              "    }\n",
              "\n",
              "    .dataframe tbody tr th {\n",
              "        vertical-align: top;\n",
              "    }\n",
              "\n",
              "    .dataframe thead th {\n",
              "        text-align: right;\n",
              "    }\n",
              "</style>\n",
              "<table border=\"1\" class=\"dataframe\">\n",
              "  <thead>\n",
              "    <tr style=\"text-align: right;\">\n",
              "      <th></th>\n",
              "      <th>sentence</th>\n",
              "      <th>target</th>\n",
              "      <th>scores_VADER</th>\n",
              "      <th>pred_VADER</th>\n",
              "    </tr>\n",
              "  </thead>\n",
              "  <tbody>\n",
              "    <tr>\n",
              "      <th>995</th>\n",
              "      <td>The screen does get smudged easily because it touches your ear and face.</td>\n",
              "      <td>0</td>\n",
              "      <td>0.3400</td>\n",
              "      <td>1</td>\n",
              "    </tr>\n",
              "    <tr>\n",
              "      <th>996</th>\n",
              "      <td>What a piece of junk.. I lose more calls on this phone.</td>\n",
              "      <td>0</td>\n",
              "      <td>-0.4019</td>\n",
              "      <td>0</td>\n",
              "    </tr>\n",
              "    <tr>\n",
              "      <th>997</th>\n",
              "      <td>Item Does Not Match Picture.</td>\n",
              "      <td>0</td>\n",
              "      <td>0.0000</td>\n",
              "      <td>1</td>\n",
              "    </tr>\n",
              "    <tr>\n",
              "      <th>998</th>\n",
              "      <td>The only thing that disappoint me is the infra red port (irda).</td>\n",
              "      <td>0</td>\n",
              "      <td>-0.4019</td>\n",
              "      <td>0</td>\n",
              "    </tr>\n",
              "    <tr>\n",
              "      <th>999</th>\n",
              "      <td>You can not answer calls with the unit, never worked once!</td>\n",
              "      <td>0</td>\n",
              "      <td>0.0000</td>\n",
              "      <td>1</td>\n",
              "    </tr>\n",
              "  </tbody>\n",
              "</table>\n",
              "</div>"
            ],
            "text/plain": [
              "                                                                     sentence  target  scores_VADER pred_VADER\n",
              "995  The screen does get smudged easily because it touches your ear and face.       0        0.3400          1\n",
              "996                   What a piece of junk.. I lose more calls on this phone.       0       -0.4019          0\n",
              "997                                              Item Does Not Match Picture.       0        0.0000          1\n",
              "998           The only thing that disappoint me is the infra red port (irda).       0       -0.4019          0\n",
              "999                You can not answer calls with the unit, never worked once!       0        0.0000          1"
            ]
          },
          "metadata": {
            "tags": []
          },
          "execution_count": 41
        }
      ]
    },
    {
      "cell_type": "code",
      "metadata": {
        "id": "cDL3iIZ-0Ywl",
        "colab_type": "code",
        "colab": {
          "base_uri": "https://localhost:8080/",
          "height": 34
        },
        "outputId": "2e8faf75-5f54-4df9-abb3-3235497974fb"
      },
      "source": [
        "# Compare Actual and Predicted\n",
        "from sklearn.metrics import accuracy_score,classification_report,confusion_matrix\n",
        "accuracy_score(amz_review['target'],amz_review['pred_VADER'])"
      ],
      "execution_count": null,
      "outputs": [
        {
          "output_type": "execute_result",
          "data": {
            "text/plain": [
              "0.758"
            ]
          },
          "metadata": {
            "tags": []
          },
          "execution_count": 46
        }
      ]
    },
    {
      "cell_type": "code",
      "metadata": {
        "id": "ry30_isE2FcR",
        "colab_type": "code",
        "colab": {
          "base_uri": "https://localhost:8080/",
          "height": 170
        },
        "outputId": "7c54981f-a62d-4fb3-977c-f5bb1348ac3f"
      },
      "source": [
        "print(classification_report(amz_review['target'],amz_review['pred_VADER']))"
      ],
      "execution_count": null,
      "outputs": [
        {
          "output_type": "stream",
          "text": [
            "              precision    recall  f1-score   support\n",
            "\n",
            "           0       0.95      0.54      0.69       500\n",
            "           1       0.68      0.97      0.80       500\n",
            "\n",
            "    accuracy                           0.76      1000\n",
            "   macro avg       0.82      0.76      0.75      1000\n",
            "weighted avg       0.82      0.76      0.75      1000\n",
            "\n"
          ],
          "name": "stdout"
        }
      ]
    },
    {
      "cell_type": "code",
      "metadata": {
        "id": "L238RPRf2q7A",
        "colab_type": "code",
        "colab": {
          "base_uri": "https://localhost:8080/",
          "height": 68
        },
        "outputId": "369a9b4d-4f1c-4ec6-8ab9-05e4fbf481ab"
      },
      "source": [
        "cm = confusion_matrix(amz_review['target'],amz_review['pred_VADER'])\n",
        "cmtx = pd.DataFrame(cm, index=['true:no', 'true:yes'], columns=['pred:no', 'pred:yes'])\n",
        "print(cmtx)"
      ],
      "execution_count": null,
      "outputs": [
        {
          "output_type": "stream",
          "text": [
            "          pred:no  pred:yes\n",
            "true:no       272       228\n",
            "true:yes       14       486\n"
          ],
          "name": "stdout"
        }
      ]
    },
    {
      "cell_type": "markdown",
      "metadata": {
        "id": "nIttKVgLzDy_",
        "colab_type": "text"
      },
      "source": [
        "## Text Blob"
      ]
    },
    {
      "cell_type": "code",
      "metadata": {
        "id": "7jHTc8OB3g8p",
        "colab_type": "code",
        "colab": {
          "base_uri": "https://localhost:8080/",
          "height": 204
        },
        "outputId": "4b1829b5-f1a8-4814-ffcf-6ebbae0dbbd7"
      },
      "source": [
        "from textblob import TextBlob\n",
        "\n",
        "amz_review['scores_TextBlob'] = amz_review['sentence'].apply(lambda s: TextBlob(s).sentiment.polarity)\n",
        "amz_review['pred_TextBlob'] = amz_review['scores_TextBlob'].apply(lambda x: 1 if x >=0 else 0)\n",
        "amz_review.head()"
      ],
      "execution_count": null,
      "outputs": [
        {
          "output_type": "execute_result",
          "data": {
            "text/html": [
              "<div>\n",
              "<style scoped>\n",
              "    .dataframe tbody tr th:only-of-type {\n",
              "        vertical-align: middle;\n",
              "    }\n",
              "\n",
              "    .dataframe tbody tr th {\n",
              "        vertical-align: top;\n",
              "    }\n",
              "\n",
              "    .dataframe thead th {\n",
              "        text-align: right;\n",
              "    }\n",
              "</style>\n",
              "<table border=\"1\" class=\"dataframe\">\n",
              "  <thead>\n",
              "    <tr style=\"text-align: right;\">\n",
              "      <th></th>\n",
              "      <th>sentence</th>\n",
              "      <th>target</th>\n",
              "      <th>scores_VADER</th>\n",
              "      <th>pred_VADER</th>\n",
              "      <th>score_TextBlob</th>\n",
              "      <th>pred_TextBlob</th>\n",
              "      <th>scores_TextBlob</th>\n",
              "    </tr>\n",
              "  </thead>\n",
              "  <tbody>\n",
              "    <tr>\n",
              "      <th>0</th>\n",
              "      <td>So there is no way for me to plug it in here in the US unless I go by a converter.</td>\n",
              "      <td>0</td>\n",
              "      <td>-0.3535</td>\n",
              "      <td>0</td>\n",
              "      <td>0.000000</td>\n",
              "      <td>1</td>\n",
              "      <td>0.000000</td>\n",
              "    </tr>\n",
              "    <tr>\n",
              "      <th>1</th>\n",
              "      <td>Good case, Excellent value.</td>\n",
              "      <td>1</td>\n",
              "      <td>0.8402</td>\n",
              "      <td>1</td>\n",
              "      <td>0.850000</td>\n",
              "      <td>1</td>\n",
              "      <td>0.850000</td>\n",
              "    </tr>\n",
              "    <tr>\n",
              "      <th>2</th>\n",
              "      <td>Great for the jawbone.</td>\n",
              "      <td>1</td>\n",
              "      <td>0.6249</td>\n",
              "      <td>1</td>\n",
              "      <td>0.800000</td>\n",
              "      <td>1</td>\n",
              "      <td>0.800000</td>\n",
              "    </tr>\n",
              "    <tr>\n",
              "      <th>3</th>\n",
              "      <td>Tied to charger for conversations lasting more than 45 minutes.MAJOR PROBLEMS!!</td>\n",
              "      <td>0</td>\n",
              "      <td>-0.6145</td>\n",
              "      <td>0</td>\n",
              "      <td>0.390625</td>\n",
              "      <td>1</td>\n",
              "      <td>0.390625</td>\n",
              "    </tr>\n",
              "    <tr>\n",
              "      <th>4</th>\n",
              "      <td>The mic is great.</td>\n",
              "      <td>1</td>\n",
              "      <td>0.6249</td>\n",
              "      <td>1</td>\n",
              "      <td>0.800000</td>\n",
              "      <td>1</td>\n",
              "      <td>0.800000</td>\n",
              "    </tr>\n",
              "  </tbody>\n",
              "</table>\n",
              "</div>"
            ],
            "text/plain": [
              "                                                                             sentence  target  scores_VADER  pred_VADER  score_TextBlob  pred_TextBlob  scores_TextBlob\n",
              "0  So there is no way for me to plug it in here in the US unless I go by a converter.       0       -0.3535           0        0.000000              1         0.000000\n",
              "1                                                         Good case, Excellent value.       1        0.8402           1        0.850000              1         0.850000\n",
              "2                                                              Great for the jawbone.       1        0.6249           1        0.800000              1         0.800000\n",
              "3     Tied to charger for conversations lasting more than 45 minutes.MAJOR PROBLEMS!!       0       -0.6145           0        0.390625              1         0.390625\n",
              "4                                                                   The mic is great.       1        0.6249           1        0.800000              1         0.800000"
            ]
          },
          "metadata": {
            "tags": []
          },
          "execution_count": 60
        }
      ]
    },
    {
      "cell_type": "code",
      "metadata": {
        "id": "2qMO-kYYXPIt",
        "colab_type": "code",
        "colab": {
          "base_uri": "https://localhost:8080/",
          "height": 204
        },
        "outputId": "a7c20542-05a3-407a-9313-27bfe75b2b80"
      },
      "source": [
        "amz_review.tail()"
      ],
      "execution_count": null,
      "outputs": [
        {
          "output_type": "execute_result",
          "data": {
            "text/html": [
              "<div>\n",
              "<style scoped>\n",
              "    .dataframe tbody tr th:only-of-type {\n",
              "        vertical-align: middle;\n",
              "    }\n",
              "\n",
              "    .dataframe tbody tr th {\n",
              "        vertical-align: top;\n",
              "    }\n",
              "\n",
              "    .dataframe thead th {\n",
              "        text-align: right;\n",
              "    }\n",
              "</style>\n",
              "<table border=\"1\" class=\"dataframe\">\n",
              "  <thead>\n",
              "    <tr style=\"text-align: right;\">\n",
              "      <th></th>\n",
              "      <th>sentence</th>\n",
              "      <th>target</th>\n",
              "      <th>scores_VADER</th>\n",
              "      <th>pred_VADER</th>\n",
              "      <th>score_TextBlob</th>\n",
              "      <th>pred_TextBlob</th>\n",
              "      <th>scores_TextBlob</th>\n",
              "    </tr>\n",
              "  </thead>\n",
              "  <tbody>\n",
              "    <tr>\n",
              "      <th>995</th>\n",
              "      <td>The screen does get smudged easily because it touches your ear and face.</td>\n",
              "      <td>0</td>\n",
              "      <td>0.3400</td>\n",
              "      <td>1</td>\n",
              "      <td>0.433333</td>\n",
              "      <td>1</td>\n",
              "      <td>0.433333</td>\n",
              "    </tr>\n",
              "    <tr>\n",
              "      <th>996</th>\n",
              "      <td>What a piece of junk.. I lose more calls on this phone.</td>\n",
              "      <td>0</td>\n",
              "      <td>-0.4019</td>\n",
              "      <td>0</td>\n",
              "      <td>0.500000</td>\n",
              "      <td>1</td>\n",
              "      <td>0.500000</td>\n",
              "    </tr>\n",
              "    <tr>\n",
              "      <th>997</th>\n",
              "      <td>Item Does Not Match Picture.</td>\n",
              "      <td>0</td>\n",
              "      <td>0.0000</td>\n",
              "      <td>1</td>\n",
              "      <td>0.000000</td>\n",
              "      <td>1</td>\n",
              "      <td>0.000000</td>\n",
              "    </tr>\n",
              "    <tr>\n",
              "      <th>998</th>\n",
              "      <td>The only thing that disappoint me is the infra red port (irda).</td>\n",
              "      <td>0</td>\n",
              "      <td>-0.4019</td>\n",
              "      <td>0</td>\n",
              "      <td>0.000000</td>\n",
              "      <td>1</td>\n",
              "      <td>0.000000</td>\n",
              "    </tr>\n",
              "    <tr>\n",
              "      <th>999</th>\n",
              "      <td>You can not answer calls with the unit, never worked once!</td>\n",
              "      <td>0</td>\n",
              "      <td>0.0000</td>\n",
              "      <td>1</td>\n",
              "      <td>0.000000</td>\n",
              "      <td>1</td>\n",
              "      <td>0.000000</td>\n",
              "    </tr>\n",
              "  </tbody>\n",
              "</table>\n",
              "</div>"
            ],
            "text/plain": [
              "                                                                     sentence  target  scores_VADER  pred_VADER  score_TextBlob  pred_TextBlob  scores_TextBlob\n",
              "995  The screen does get smudged easily because it touches your ear and face.       0        0.3400           1        0.433333              1         0.433333\n",
              "996                   What a piece of junk.. I lose more calls on this phone.       0       -0.4019           0        0.500000              1         0.500000\n",
              "997                                              Item Does Not Match Picture.       0        0.0000           1        0.000000              1         0.000000\n",
              "998           The only thing that disappoint me is the infra red port (irda).       0       -0.4019           0        0.000000              1         0.000000\n",
              "999                You can not answer calls with the unit, never worked once!       0        0.0000           1        0.000000              1         0.000000"
            ]
          },
          "metadata": {
            "tags": []
          },
          "execution_count": 61
        }
      ]
    },
    {
      "cell_type": "code",
      "metadata": {
        "id": "PQzA8ovC951C",
        "colab_type": "code",
        "colab": {
          "base_uri": "https://localhost:8080/",
          "height": 34
        },
        "outputId": "9938ecdc-f791-48d9-99b0-50b3653a310c"
      },
      "source": [
        "# Compare Actual and Predicted\n",
        "from sklearn.metrics import accuracy_score,classification_report,confusion_matrix\n",
        "accuracy_score(amz_review['target'],amz_review['pred_TextBlob'])"
      ],
      "execution_count": null,
      "outputs": [
        {
          "output_type": "execute_result",
          "data": {
            "text/plain": [
              "0.688"
            ]
          },
          "metadata": {
            "tags": []
          },
          "execution_count": 54
        }
      ]
    },
    {
      "cell_type": "code",
      "metadata": {
        "id": "Nc2Twr_zBngN",
        "colab_type": "code",
        "colab": {
          "base_uri": "https://localhost:8080/",
          "height": 170
        },
        "outputId": "faa1bab9-c4fd-4061-c299-69de4ec267e4"
      },
      "source": [
        "print(classification_report(amz_review['target'],amz_review['pred_TextBlob']))"
      ],
      "execution_count": null,
      "outputs": [
        {
          "output_type": "stream",
          "text": [
            "              precision    recall  f1-score   support\n",
            "\n",
            "           0       0.93      0.41      0.57       500\n",
            "           1       0.62      0.97      0.76       500\n",
            "\n",
            "    accuracy                           0.69      1000\n",
            "   macro avg       0.77      0.69      0.66      1000\n",
            "weighted avg       0.77      0.69      0.66      1000\n",
            "\n"
          ],
          "name": "stdout"
        }
      ]
    },
    {
      "cell_type": "code",
      "metadata": {
        "id": "ZlHRj8BgBrFu",
        "colab_type": "code",
        "colab": {
          "base_uri": "https://localhost:8080/",
          "height": 68
        },
        "outputId": "af6e3240-9ea8-40a5-b1ef-4a8fe3c5febd"
      },
      "source": [
        "cm = confusion_matrix(amz_review['target'],amz_review['pred_TextBlob'])\n",
        "cmtx = pd.DataFrame(cm, index=['true:no', 'true:yes'], columns=['pred:no', 'pred:yes'])\n",
        "print(cmtx)"
      ],
      "execution_count": null,
      "outputs": [
        {
          "output_type": "stream",
          "text": [
            "          pred:no  pred:yes\n",
            "true:no       204       296\n",
            "true:yes       16       484\n"
          ],
          "name": "stdout"
        }
      ]
    },
    {
      "cell_type": "markdown",
      "metadata": {
        "id": "b6YLHGWjCF5E",
        "colab_type": "text"
      },
      "source": [
        "## Comparision in Distribution"
      ]
    },
    {
      "cell_type": "markdown",
      "metadata": {
        "id": "kRcpczFaIz_d",
        "colab_type": "text"
      },
      "source": [
        "# New Section"
      ]
    },
    {
      "cell_type": "code",
      "metadata": {
        "id": "fbG3VCtRYNqo",
        "colab_type": "code",
        "colab": {
          "base_uri": "https://localhost:8080/",
          "height": 265
        },
        "outputId": "80017e2e-6c07-4145-cc58-8bf60281d8c2"
      },
      "source": [
        "pyplot.hist(amz_review['scores_VADER'], bins=50, alpha=0.5, label='VADER')\n",
        "pyplot.hist(amz_review['scores_TextBlob'], bins=50, alpha=0.5, label='TextBlob')\n",
        "pyplot.legend(loc='upper left')\n",
        "pyplot.show()"
      ],
      "execution_count": null,
      "outputs": [
        {
          "output_type": "display_data",
          "data": {
            "image/png": "[encoded data removed]",
            "text/plain": [
              "<Figure size 432x288 with 1 Axes>"
            ]
          },
          "metadata": {
            "tags": [],
            "needs_background": "light"
          }
        }
      ]
    },
    {
      "cell_type": "markdown",
      "metadata": {
        "id": "iwATzc34e6JZ",
        "colab_type": "text"
      },
      "source": [
        "## Data Preprocessing for Models"
      ]
    },
    {
      "cell_type": "code",
      "metadata": {
        "id": "ptA0lMIzh6bU",
        "colab_type": "code",
        "colab": {}
      },
      "source": [
        "X, y = (amz_review['sentence'].values, amz_review['target'].values) #RNN input requires array data type"
      ],
      "execution_count": null,
      "outputs": []
    },
    {
      "cell_type": "code",
      "metadata": {
        "id": "L43jNO1-YK0u",
        "colab_type": "code",
        "colab": {}
      },
      "source": [
        "from keras.preprocessing.text import Tokenizer\n",
        "from keras.preprocessing.sequence import pad_sequences"
      ],
      "execution_count": null,
      "outputs": []
    },
    {
      "cell_type": "code",
      "metadata": {
        "id": "BtoOwSuIZkaq",
        "colab_type": "code",
        "colab": {
          "base_uri": "https://localhost:8080/",
          "height": 34
        },
        "outputId": "acf91d28-2dc0-44a1-acf2-e2d5f3026ad6"
      },
      "source": [
        "# check the max length of the sentences.\n",
        "amz_review.sentence.str.len().max()"
      ],
      "execution_count": null,
      "outputs": [
        {
          "output_type": "execute_result",
          "data": {
            "text/plain": [
              "149"
            ]
          },
          "metadata": {
            "tags": []
          },
          "execution_count": 11
        }
      ]
    },
    {
      "cell_type": "code",
      "metadata": {
        "id": "d7tYJHWHU3Jv",
        "colab_type": "code",
        "colab": {}
      },
      "source": [
        "tk = Tokenizer(lower = True)\n",
        "tk.fit_on_texts(X)\n",
        "X_seq = tk.texts_to_sequences(X)\n",
        "X_pad = pad_sequences(X_seq, maxlen=20, padding='post')"
      ],
      "execution_count": null,
      "outputs": []
    },
    {
      "cell_type": "code",
      "metadata": {
        "id": "6kSA8bHCZTKC",
        "colab_type": "code",
        "colab": {
          "base_uri": "https://localhost:8080/",
          "height": 34
        },
        "outputId": "3188b772-242e-4db1-9958-10d049560707"
      },
      "source": [
        "type(X_pad)"
      ],
      "execution_count": null,
      "outputs": [
        {
          "output_type": "execute_result",
          "data": {
            "text/plain": [
              "numpy.ndarray"
            ]
          },
          "metadata": {
            "tags": []
          },
          "execution_count": 15
        }
      ]
    },
    {
      "cell_type": "code",
      "metadata": {
        "id": "2Dgxfns-Za7L",
        "colab_type": "code",
        "colab": {
          "base_uri": "https://localhost:8080/",
          "height": 51
        },
        "outputId": "72009c87-6e3e-41ec-b1a9-1e0064dd1732"
      },
      "source": [
        "X_pad[0]"
      ],
      "execution_count": null,
      "outputs": [
        {
          "output_type": "execute_result",
          "data": {
            "text/plain": [
              "array([117,   5,  53, 214,  11,  47,   8, 155,   4,  19, 337,  19,   1,\n",
              "       546, 416,   2, 241, 190,   6, 812], dtype=int32)"
            ]
          },
          "metadata": {
            "tags": []
          },
          "execution_count": 16
        }
      ]
    },
    {
      "cell_type": "code",
      "metadata": {
        "id": "YfZnl_QTEgkB",
        "colab_type": "code",
        "colab": {
          "base_uri": "https://localhost:8080/",
          "height": 35
        },
        "outputId": "41d26130-8bad-4bb7-8a9c-e9dfd3b677fd"
      },
      "source": [
        "X[0]"
      ],
      "execution_count": null,
      "outputs": [
        {
          "output_type": "execute_result",
          "data": {
            "application/vnd.google.colaboratory.intrinsic+json": {
              "type": "string"
            },
            "text/plain": [
              "'So there is no way for me to plug it in here in the US unless I go by a converter.'"
            ]
          },
          "metadata": {
            "tags": []
          },
          "execution_count": 14
        }
      ]
    },
    {
      "cell_type": "markdown",
      "metadata": {
        "id": "DtUr3bYSa31-",
        "colab_type": "text"
      },
      "source": [
        "## Train Test Split"
      ]
    },
    {
      "cell_type": "code",
      "metadata": {
        "id": "V0x1t4HdVNbV",
        "colab_type": "code",
        "colab": {}
      },
      "source": [
        "from sklearn.model_selection import train_test_split\n",
        "X_train, X_test, y_train, y_test = train_test_split(X_pad, y, test_size = 0.20, random_state = 0)"
      ],
      "execution_count": null,
      "outputs": []
    },
    {
      "cell_type": "markdown",
      "metadata": {
        "id": "jy062Z_xa-AS",
        "colab_type": "text"
      },
      "source": [
        "## Build RNN LSTM Model"
      ]
    },
    {
      "cell_type": "markdown",
      "metadata": {
        "id": "UH79ST_ndwsa",
        "colab_type": "text"
      },
      "source": [
        "The embedding layer represent each word using a vector. ```input_dim```is the size of the volcabulary. ```output_dim``` is the dimension of the embedding vector. ```input_length```is the length of the padded sequence.\n",
        "The LSTM layer contains multiple parallel LSTM units, structurally identical but each eventually \"learning to remember\" some different thing.\n"
      ]
    },
    {
      "cell_type": "code",
      "metadata": {
        "id": "eKs31OQPiFQ-",
        "colab_type": "code",
        "colab": {
          "base_uri": "https://localhost:8080/",
          "height": 34
        },
        "outputId": "8ebf3149-4352-45f1-a7a3-a7362762d559"
      },
      "source": [
        "import tensorflow as tf; print(tf.__version__)"
      ],
      "execution_count": null,
      "outputs": [
        {
          "output_type": "stream",
          "text": [
            "2.3.0\n"
          ],
          "name": "stdout"
        }
      ]
    },
    {
      "cell_type": "code",
      "metadata": {
        "id": "SEpXU6Vt3Hf2",
        "colab_type": "code",
        "colab": {
          "base_uri": "https://localhost:8080/",
          "height": 714
        },
        "outputId": "fa56b69b-9de3-4337-ad4e-56e909259994"
      },
      "source": [
        "model = Sequential()\n",
        "model.add(Embedding(input_dim=len(tk.word_counts.keys())+1, output_dim=128,input_length = 20))\n",
        "model.add(LSTM(units=200, dropout=0.2, recurrent_dropout=0.2))\n",
        "model.add(Dense(1,activation='sigmoid'))\n",
        "model.compile(loss = 'binary_crossentropy', optimizer='adam',metrics = ['accuracy'])\n",
        "model.fit(X_train, y_train, batch_size=50, epochs = 20)"
      ],
      "execution_count": null,
      "outputs": [
        {
          "output_type": "stream",
          "text": [
            "Epoch 1/20\n",
            "16/16 [==============================] - 2s 94ms/step - loss: 0.6939 - accuracy: 0.4963\n",
            "Epoch 2/20\n",
            "16/16 [==============================] - 1s 93ms/step - loss: 0.6495 - accuracy: 0.6225\n",
            "Epoch 3/20\n",
            "16/16 [==============================] - 1s 93ms/step - loss: 0.3316 - accuracy: 0.8600\n",
            "Epoch 4/20\n",
            "16/16 [==============================] - 1s 94ms/step - loss: 0.1320 - accuracy: 0.9500\n",
            "Epoch 5/20\n",
            "16/16 [==============================] - 1s 93ms/step - loss: 0.0560 - accuracy: 0.9887\n",
            "Epoch 6/20\n",
            "16/16 [==============================] - 2s 94ms/step - loss: 0.0616 - accuracy: 0.9837\n",
            "Epoch 7/20\n",
            "16/16 [==============================] - 1s 93ms/step - loss: 0.0265 - accuracy: 0.9950\n",
            "Epoch 8/20\n",
            "16/16 [==============================] - 1s 92ms/step - loss: 0.0050 - accuracy: 0.9987\n",
            "Epoch 9/20\n",
            "16/16 [==============================] - 1s 93ms/step - loss: 0.0105 - accuracy: 0.9962\n",
            "Epoch 10/20\n",
            "16/16 [==============================] - 2s 95ms/step - loss: 0.0077 - accuracy: 0.9975\n",
            "Epoch 11/20\n",
            "16/16 [==============================] - 1s 92ms/step - loss: 0.0139 - accuracy: 0.9962\n",
            "Epoch 12/20\n",
            "16/16 [==============================] - 1s 93ms/step - loss: 0.0071 - accuracy: 1.0000\n",
            "Epoch 13/20\n",
            "16/16 [==============================] - 1s 93ms/step - loss: 0.0025 - accuracy: 0.9987\n",
            "Epoch 14/20\n",
            "16/16 [==============================] - 1s 92ms/step - loss: 7.1377e-04 - accuracy: 1.0000\n",
            "Epoch 15/20\n",
            "16/16 [==============================] - 1s 93ms/step - loss: 1.6903e-04 - accuracy: 1.0000\n",
            "Epoch 16/20\n",
            "16/16 [==============================] - 1s 93ms/step - loss: 1.4264e-04 - accuracy: 1.0000\n",
            "Epoch 17/20\n",
            "16/16 [==============================] - 2s 94ms/step - loss: 0.0015 - accuracy: 0.9987\n",
            "Epoch 18/20\n",
            "16/16 [==============================] - 1s 92ms/step - loss: 0.0178 - accuracy: 0.9975\n",
            "Epoch 19/20\n",
            "16/16 [==============================] - 1s 93ms/step - loss: 0.0109 - accuracy: 0.9975\n",
            "Epoch 20/20\n",
            "16/16 [==============================] - 1s 92ms/step - loss: 0.0174 - accuracy: 0.9962\n"
          ],
          "name": "stdout"
        },
        {
          "output_type": "execute_result",
          "data": {
            "text/plain": [
              "<tensorflow.python.keras.callbacks.History at 0x7fb495c1cd68>"
            ]
          },
          "metadata": {
            "tags": []
          },
          "execution_count": 19
        }
      ]
    },
    {
      "cell_type": "code",
      "metadata": {
        "id": "aP5eChReKDeP",
        "colab_type": "code",
        "colab": {
          "base_uri": "https://localhost:8080/",
          "height": 255
        },
        "outputId": "6f9c9e36-4c16-4a99-b9d6-84da4296793d"
      },
      "source": [
        "model.summary()"
      ],
      "execution_count": null,
      "outputs": [
        {
          "output_type": "stream",
          "text": [
            "Model: \"sequential_2\"\n",
            "_________________________________________________________________\n",
            "Layer (type)                 Output Shape              Param #   \n",
            "=================================================================\n",
            "embedding_2 (Embedding)      (None, 20, 128)           240512    \n",
            "_________________________________________________________________\n",
            "lstm_1 (LSTM)                (None, 200)               263200    \n",
            "_________________________________________________________________\n",
            "dense (Dense)                (None, 1)                 201       \n",
            "=================================================================\n",
            "Total params: 503,913\n",
            "Trainable params: 503,913\n",
            "Non-trainable params: 0\n",
            "_________________________________________________________________\n"
          ],
          "name": "stdout"
        }
      ]
    },
    {
      "cell_type": "code",
      "metadata": {
        "id": "DTsFJXGiL3xk",
        "colab_type": "code",
        "colab": {
          "base_uri": "https://localhost:8080/",
          "height": 34
        },
        "outputId": "5cf2d036-ee5e-4919-bcde-d08210d374eb"
      },
      "source": [
        "len(tk.word_counts.keys())+1"
      ],
      "execution_count": null,
      "outputs": [
        {
          "output_type": "execute_result",
          "data": {
            "text/plain": [
              "1879"
            ]
          },
          "metadata": {
            "tags": []
          },
          "execution_count": 21
        }
      ]
    },
    {
      "cell_type": "code",
      "metadata": {
        "id": "xg48Ih_YMzHa",
        "colab_type": "code",
        "colab": {
          "base_uri": "https://localhost:8080/",
          "height": 34
        },
        "outputId": "77e7b4d0-8ede-43a8-ea17-7b62f52e0f55"
      },
      "source": [
        "# 1st layer number of parameters: number of input_dim*output_dim\n",
        "1879*128"
      ],
      "execution_count": null,
      "outputs": [
        {
          "output_type": "execute_result",
          "data": {
            "text/plain": [
              "240512"
            ]
          },
          "metadata": {
            "tags": []
          },
          "execution_count": 27
        }
      ]
    },
    {
      "cell_type": "code",
      "metadata": {
        "id": "_bCHNMOiL5cF",
        "colab_type": "code",
        "colab": {
          "base_uri": "https://localhost:8080/",
          "height": 34
        },
        "outputId": "c47ad415-c2a9-4dfe-9b2a-6ed9fcb1cf7b"
      },
      "source": [
        "# 2nd LSTM layer number of parameters: 4*(output_dim_of_last_layer*units+units**2+units) \n",
        "4*(128*200+200*200+200)"
      ],
      "execution_count": null,
      "outputs": [
        {
          "output_type": "execute_result",
          "data": {
            "text/plain": [
              "263200"
            ]
          },
          "metadata": {
            "tags": []
          },
          "execution_count": 31
        }
      ]
    },
    {
      "cell_type": "code",
      "metadata": {
        "id": "MyFtujctN70O",
        "colab_type": "code",
        "colab": {
          "base_uri": "https://localhost:8080/",
          "height": 34
        },
        "outputId": "1f237646-7257-4bb2-fb9a-d2c1c2b7c34a"
      },
      "source": [
        "# 3rd output layer number of parameters: output_dim_of_last_layer*output_dim_of_this_layer+output_dim_of_this_layer\n",
        "200*1+1"
      ],
      "execution_count": null,
      "outputs": [
        {
          "output_type": "execute_result",
          "data": {
            "text/plain": [
              "201"
            ]
          },
          "metadata": {
            "tags": []
          },
          "execution_count": 32
        }
      ]
    },
    {
      "cell_type": "code",
      "metadata": {
        "id": "Lh9tsePhlVll",
        "colab_type": "code",
        "colab": {
          "base_uri": "https://localhost:8080/",
          "height": 34
        },
        "outputId": "6785e684-c00b-4188-86fc-248680d10973"
      },
      "source": [
        "scores = model.evaluate(X_test, y_test, verbose=0)\n",
        "print(\"Accuracy: %.2f%%\" % (scores[1]*100))"
      ],
      "execution_count": null,
      "outputs": [
        {
          "output_type": "stream",
          "text": [
            "Accuracy: 82.50%\n"
          ],
          "name": "stdout"
        }
      ]
    },
    {
      "cell_type": "markdown",
      "metadata": {
        "id": "KHNHpcOihBAu",
        "colab_type": "text"
      },
      "source": [
        "## Build RNN GRU (Gated Recurrent Unit) Model"
      ]
    },
    {
      "cell_type": "markdown",
      "metadata": {
        "id": "vAMgQOe6hyqi",
        "colab_type": "text"
      },
      "source": [
        "The key difference between a GRU and an LSTM is that a GRU has two gates (reset and update gates) whereas an LSTM has three gates (namely input, output and forget gates)"
      ]
    },
    {
      "cell_type": "code",
      "metadata": {
        "id": "WwAqxWzdhLUm",
        "colab_type": "code",
        "colab": {
          "base_uri": "https://localhost:8080/",
          "height": 714
        },
        "outputId": "5650d100-a0df-4e5d-8372-1b292e08ec89"
      },
      "source": [
        "model_gru = Sequential()\n",
        "model_gru.add(Embedding(input_dim=len(tk.word_counts.keys())+1, output_dim=128,input_length = 20))\n",
        "model_gru.add(GRU(200))\n",
        "model_gru.add(Dense(1, activation='sigmoid'))\n",
        "model_gru.compile(loss='binary_crossentropy', optimizer='adam', metrics=['accuracy'])\n",
        "model_gru.fit(X_train, y_train, batch_size=50, epochs = 20)"
      ],
      "execution_count": null,
      "outputs": [
        {
          "output_type": "stream",
          "text": [
            "Epoch 1/20\n",
            "16/16 [==============================] - 1s 63ms/step - loss: 0.6944 - accuracy: 0.4875\n",
            "Epoch 2/20\n",
            "16/16 [==============================] - 1s 64ms/step - loss: 0.6912 - accuracy: 0.5550\n",
            "Epoch 3/20\n",
            "16/16 [==============================] - 1s 63ms/step - loss: 0.6835 - accuracy: 0.5550\n",
            "Epoch 4/20\n",
            "16/16 [==============================] - 1s 64ms/step - loss: 0.6017 - accuracy: 0.6463\n",
            "Epoch 5/20\n",
            "16/16 [==============================] - 1s 64ms/step - loss: 0.2792 - accuracy: 0.8950\n",
            "Epoch 6/20\n",
            "16/16 [==============================] - 1s 64ms/step - loss: 0.0989 - accuracy: 0.9675\n",
            "Epoch 7/20\n",
            "16/16 [==============================] - 1s 64ms/step - loss: 0.0293 - accuracy: 0.9937\n",
            "Epoch 8/20\n",
            "16/16 [==============================] - 1s 65ms/step - loss: 0.0035 - accuracy: 1.0000\n",
            "Epoch 9/20\n",
            "16/16 [==============================] - 1s 65ms/step - loss: 0.0013 - accuracy: 1.0000\n",
            "Epoch 10/20\n",
            "16/16 [==============================] - 1s 62ms/step - loss: 3.0631e-04 - accuracy: 1.0000\n",
            "Epoch 11/20\n",
            "16/16 [==============================] - 1s 64ms/step - loss: 1.2720e-04 - accuracy: 1.0000\n",
            "Epoch 12/20\n",
            "16/16 [==============================] - 1s 66ms/step - loss: 7.2622e-05 - accuracy: 1.0000\n",
            "Epoch 13/20\n",
            "16/16 [==============================] - 1s 65ms/step - loss: 5.3544e-05 - accuracy: 1.0000\n",
            "Epoch 14/20\n",
            "16/16 [==============================] - 1s 62ms/step - loss: 4.5273e-05 - accuracy: 1.0000\n",
            "Epoch 15/20\n",
            "16/16 [==============================] - 1s 64ms/step - loss: 4.0000e-05 - accuracy: 1.0000\n",
            "Epoch 16/20\n",
            "16/16 [==============================] - 1s 61ms/step - loss: 3.5602e-05 - accuracy: 1.0000\n",
            "Epoch 17/20\n",
            "16/16 [==============================] - 1s 62ms/step - loss: 3.2221e-05 - accuracy: 1.0000\n",
            "Epoch 18/20\n",
            "16/16 [==============================] - 1s 63ms/step - loss: 2.9426e-05 - accuracy: 1.0000\n",
            "Epoch 19/20\n",
            "16/16 [==============================] - 1s 62ms/step - loss: 2.6892e-05 - accuracy: 1.0000\n",
            "Epoch 20/20\n",
            "16/16 [==============================] - 1s 67ms/step - loss: 2.4732e-05 - accuracy: 1.0000\n"
          ],
          "name": "stdout"
        },
        {
          "output_type": "execute_result",
          "data": {
            "text/plain": [
              "<tensorflow.python.keras.callbacks.History at 0x7f171437c588>"
            ]
          },
          "metadata": {
            "tags": []
          },
          "execution_count": 22
        }
      ]
    },
    {
      "cell_type": "code",
      "metadata": {
        "id": "0BBczOhmiJEW",
        "colab_type": "code",
        "colab": {
          "base_uri": "https://localhost:8080/",
          "height": 34
        },
        "outputId": "00b26e40-54a1-488b-9c7d-b02bac618e0e"
      },
      "source": [
        "scores = model_gru.evaluate(X_test, y_test, verbose=0)\n",
        "print(\"Accuracy: %.2f%%\" % (scores[1]*100))"
      ],
      "execution_count": null,
      "outputs": [
        {
          "output_type": "stream",
          "text": [
            "Accuracy: 84.10%\n"
          ],
          "name": "stdout"
        }
      ]
    }
  ]
}